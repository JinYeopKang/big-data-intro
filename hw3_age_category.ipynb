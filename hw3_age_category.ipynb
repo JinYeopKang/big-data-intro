{
 "cells": [
  {
   "cell_type": "code",
   "execution_count": 7,
   "id": "8c55fe55-6b9d-4eb3-99d8-73a57f0fd878",
   "metadata": {},
   "outputs": [],
   "source": [
    "# SparkSession 설정\n",
    "from pyspark.sql import SparkSession\n",
    "\n",
    "spark = SparkSession.builder.master('local').appName('age-category').getOrCreate()"
   ]
  },
  {
   "cell_type": "code",
   "execution_count": 37,
   "id": "870af3b4-b581-4e54-81d9-9d44f48dd37a",
   "metadata": {},
   "outputs": [],
   "source": [
    "# 샘플 데이터\n",
    "age_list = [\n",
    "    ('이나영', 45),\n",
    "    ('원빈', 47),\n",
    "    ('손흥민', 32),\n",
    "    ('박재범', 37),\n",
    "    ('손인욱', 30),\n",
    "    ('강진엽', 26),\n",
    "    ('이희선', 26),\n",
    "    ('이마세', 24),\n",
    "    ('문현묵', 23),\n",
    "    ('한석규', 60)\n",
    "]"
   ]
  },
  {
   "cell_type": "code",
   "execution_count": 38,
   "id": "86a0d4cb-8701-4371-a46a-20d6e6c2de8b",
   "metadata": {},
   "outputs": [],
   "source": [
    "# 스키마 정의\n",
    "schema = ['name', 'age']"
   ]
  },
  {
   "cell_type": "code",
   "execution_count": 39,
   "id": "151fbaeb-d228-4774-ba53-110fef1589af",
   "metadata": {},
   "outputs": [],
   "source": [
    "# 데이터프레임 생성\n",
    "df = spark.createDataFrame(age_list, schema)"
   ]
  },
  {
   "cell_type": "code",
   "execution_count": 40,
   "id": "06ce1b6a-47ef-4962-9f61-3ca648aeecbf",
   "metadata": {},
   "outputs": [
    {
     "name": "stdout",
     "output_type": "stream",
     "text": [
      "+------+---+\n",
      "|  name|age|\n",
      "+------+---+\n",
      "|이나영| 45|\n",
      "|  원빈| 47|\n",
      "|손흥민| 32|\n",
      "|박재범| 37|\n",
      "|손인욱| 30|\n",
      "|강진엽| 26|\n",
      "|이희선| 26|\n",
      "|이마세| 24|\n",
      "|문현묵| 23|\n",
      "|한석규| 60|\n",
      "+------+---+\n",
      "\n"
     ]
    }
   ],
   "source": [
    "# 데이터프레임 출력\n",
    "df.show()"
   ]
  },
  {
   "cell_type": "code",
   "execution_count": 41,
   "id": "fc854e7d-f7ee-4b5c-a132-4edcd1fa2b0e",
   "metadata": {},
   "outputs": [
    {
     "name": "stdout",
     "output_type": "stream",
     "text": [
      "root\n",
      " |-- name: string (nullable = true)\n",
      " |-- age: long (nullable = true)\n",
      "\n"
     ]
    }
   ],
   "source": [
    "# 데이터프레임 스키마 출력\n",
    "df.printSchema()"
   ]
  },
  {
   "cell_type": "code",
   "execution_count": 42,
   "id": "a18540a7-8f81-425a-b7a0-a07539b73afd",
   "metadata": {},
   "outputs": [],
   "source": [
    "# Temporary View 생성\n",
    "df.createOrReplaceTempView('age_category')"
   ]
  },
  {
   "cell_type": "code",
   "execution_count": 43,
   "id": "deb595a7-f58a-4549-8ca8-0a816162a7fb",
   "metadata": {},
   "outputs": [],
   "source": [
    "# UDF 등록하기\n",
    "from pyspark.sql.functions import udf"
   ]
  },
  {
   "cell_type": "code",
   "execution_count": 48,
   "id": "3158e110-5bd9-43c8-8992-82c849d26fab",
   "metadata": {},
   "outputs": [],
   "source": [
    "# UDF 함수 정의\n",
    "\n",
    "def age_category(age):\n",
    "    if age<35:\n",
    "        return 'young'\n",
    "    elif age>=35 and age<60:\n",
    "        return 'adult'\n",
    "    elif age>=60:\n",
    "        return 'senior'"
   ]
  },
  {
   "cell_type": "code",
   "execution_count": 49,
   "id": "f6fa0910-9877-4e9d-9c2b-a3f737170043",
   "metadata": {},
   "outputs": [
    {
     "data": {
      "text/plain": [
       "<function __main__.age_category(age)>"
      ]
     },
     "execution_count": 49,
     "metadata": {},
     "output_type": "execute_result"
    }
   ],
   "source": [
    "# udf 등록\n",
    "spark.udf.register('age_category', age_category)"
   ]
  },
  {
   "cell_type": "code",
   "execution_count": 50,
   "id": "ba89092a-b03a-48de-94c0-da4c3d212c46",
   "metadata": {},
   "outputs": [
    {
     "name": "stdout",
     "output_type": "stream",
     "text": [
      "+------+--------+\n",
      "|  name|category|\n",
      "+------+--------+\n",
      "|이나영|   adult|\n",
      "|  원빈|   adult|\n",
      "|손흥민|   young|\n",
      "|박재범|   adult|\n",
      "|손인욱|   young|\n",
      "|강진엽|   young|\n",
      "|이희선|   young|\n",
      "|이마세|   young|\n",
      "|문현묵|   young|\n",
      "|한석규|  senior|\n",
      "+------+--------+\n",
      "\n"
     ]
    },
    {
     "name": "stderr",
     "output_type": "stream",
     "text": [
      "----------------------------------------\n",
      "Exception occurred during processing of request from ('127.0.0.1', 53281)\n"
     ]
    }
   ],
   "source": [
    "# SQL문 처리\n",
    "spark.sql(\n",
    "    \"SELECT name, \\\n",
    "    age_category(age) AS category \\\n",
    "    FROM age_category\").show()"
   ]
  }
 ],
 "metadata": {
  "kernelspec": {
   "display_name": "Python 3 (ipykernel)",
   "language": "python",
   "name": "python3"
  },
  "language_info": {
   "codemirror_mode": {
    "name": "ipython",
    "version": 3
   },
   "file_extension": ".py",
   "mimetype": "text/x-python",
   "name": "python",
   "nbconvert_exporter": "python",
   "pygments_lexer": "ipython3",
   "version": "3.9.13"
  }
 },
 "nbformat": 4,
 "nbformat_minor": 5
}
